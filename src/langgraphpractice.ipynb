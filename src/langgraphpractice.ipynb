{
  "cells": [
    {
      "cell_type": "markdown",
      "source": [
        "# LangGraph `:)`"
      ],
      "metadata": {
        "id": "-NvyE4Ks2uuh"
      }
    },
    {
      "cell_type": "markdown",
      "source": [
        "## First Things First"
      ],
      "metadata": {
        "id": "oHE6EvsiNCzg"
      }
    },
    {
      "cell_type": "code",
      "source": [
        "# !pip install --quiet -U langchain_openai langchain_core langchain_community tavily-python langgraph"
      ],
      "metadata": {
        "id": "R5XnHMbEIFaE"
      },
      "execution_count": 5,
      "outputs": []
    },
    {
      "cell_type": "code",
      "source": [
        "import os\n",
        "import random\n",
        "from pprint import pprint\n",
        "from google.colab import userdata\n",
        "from IPython.display import display, Image\n",
        "from typing import Literal\n",
        "from typing_extensions import TypedDict\n",
        "from langchain_openai import ChatOpenAI\n",
        "from langchain_core.messages import AIMessage, HumanMessage, AnyMessage, SystemMessage, ToolMessage\n",
        "from langchain_community.tools.tavily_search import TavilySearchResults\n",
        "from langgraph.graph import StateGraph, MessagesState, START, END\n",
        "from langgraph.graph.message import add_messages\n",
        "from langgraph.prebuilt import ToolNode, tools_condition\n",
        "from langgraph.checkpoint.memory import MemorySaver"
      ],
      "metadata": {
        "id": "e_M61Ah32qYx"
      },
      "execution_count": 33,
      "outputs": []
    },
    {
      "cell_type": "code",
      "source": [
        "GIRU_OPENAI_API_KEY = userdata.get('GIRU_OPENAI_API_KEY')\n",
        "GIRU_TAVILY_API_KEY = userdata.get('GIRU_TAVILY_API_KEY')\n",
        "os.environ[\"OPENAI_API_KEY\"] = GIRU_OPENAI_API_KEY\n",
        "os.environ[\"TAVILY_API_KEY\"] = GIRU_TAVILY_API_KEY"
      ],
      "metadata": {
        "id": "ZUAkxl1-HyOE"
      },
      "execution_count": 7,
      "outputs": []
    },
    {
      "cell_type": "code",
      "source": [
        "# checking openai llm\n",
        "llm = ChatOpenAI(model=\"gpt-4o-mini\", temperature=0)\n",
        "result = llm.invoke(\"Hi, are you deepseek?\")\n",
        "\n",
        "# printing results\n",
        "print(\"===\"*25)\n",
        "print(f\"RESPONSE\\n{result.content}\")\n",
        "print(\"===\"*25)\n",
        "print(\"METADATA\")\n",
        "print(f\"model: {result.response_metadata['model_name']}\")\n",
        "for k, v in result.response_metadata['token_usage'].items():\n",
        "  print(f\"{k}: {v}\")"
      ],
      "metadata": {
        "colab": {
          "base_uri": "https://localhost:8080/"
        },
        "id": "uQS0wcQgIcoz",
        "outputId": "3949b9c3-970f-4ee2-a2df-76f7d1265e8b"
      },
      "execution_count": 8,
      "outputs": [
        {
          "output_type": "stream",
          "name": "stdout",
          "text": [
            "===========================================================================\n",
            "RESPONSE\n",
            "No, I'm not DeepSeek. I'm an AI language model created by OpenAI. How can I assist you today?\n",
            "===========================================================================\n",
            "METADATA\n",
            "model: gpt-4o-mini-2024-07-18\n",
            "completion_tokens: 25\n",
            "prompt_tokens: 14\n",
            "total_tokens: 39\n",
            "completion_tokens_details: {'accepted_prediction_tokens': 0, 'audio_tokens': 0, 'reasoning_tokens': 0, 'rejected_prediction_tokens': 0}\n",
            "prompt_tokens_details: {'audio_tokens': 0, 'cached_tokens': 0}\n"
          ]
        }
      ]
    },
    {
      "cell_type": "code",
      "source": [
        "# checking tavily tool\n",
        "tavily_search = TavilySearchResults(max_results=3)\n",
        "search_docs = tavily_search.invoke(\"What is LangGraph?\")\n",
        "search_docs\n",
        "\n",
        "# printing results\n",
        "print(\"===\"*25)\n",
        "for doc in search_docs:\n",
        "  for k, v in doc.items():\n",
        "    print(f\"{k}: {v}\")\n",
        "  print(\"===\"*25)"
      ],
      "metadata": {
        "colab": {
          "base_uri": "https://localhost:8080/"
        },
        "id": "h66PWGQcNpOf",
        "outputId": "20f1055f-5ba3-42c8-b633-fbd7aecac34d"
      },
      "execution_count": 9,
      "outputs": [
        {
          "output_type": "stream",
          "name": "stdout",
          "text": [
            "===========================================================================\n",
            "title: Introduction to LangGraph: A Beginner's Guide - Medium\n",
            "url: https://medium.com/@cplog/introduction-to-langgraph-a-beginners-guide-14f9be027141\n",
            "content: In this article, we’ll introduce LangGraph, walk you through its basic concepts, and share some insights and common points of confusion for beginners. While LangChain allows you to define chains of computation (Directed Acyclic Graphs or DAGs), LangGraph introduces the ability to add cycles, enabling more complex, agent-like behaviors where you can call an LLM in a loop, asking it what action to take next. Step 1: Define the Graph State First, we define the state structure for our graph. Step 4: Add Nodes to the Graph LangGraph is a versatile tool for building complex, stateful applications with LLMs. By understanding its core concepts and working through simple examples, beginners can start to leverage its power for their projects.\n",
            "score: 0.8467682\n",
            "===========================================================================\n",
            "title: LangGraph - LangChain\n",
            "url: https://www.langchain.com/langgraph\n",
            "content: Build and scale agentic applications with LangGraph Platform. Design agent-driven user experiences with LangGraph Platform's APIs. Quickly deploy and scale your application with infrastructure built for agents. LangGraph sets the foundation for how we can build and scale AI workloads — from conversational agents, complex task automation, to custom LLM-backed experiences that 'just work'. The next chapter in building complex production-ready features with LLMs is agentic, and with LangGraph and LangSmith, LangChain delivers an out-of-the-box solution to iterate quickly, debug immediately, and scale effortlessly.” LangGraph sets the foundation for how we can build and scale AI workloads — from conversational agents, complex task automation, to custom LLM-backed experiences that 'just work'. LangGraph Platform is a service for deploying and scaling LangGraph applications, with an opinionated API for building agent UXs, plus an integrated developer studio.\n",
            "score: 0.81665546\n",
            "===========================================================================\n",
            "title: What is LangGraph? - IBM\n",
            "url: https://www.ibm.com/think/topics/langgraph\n",
            "content: What is machine learning?Gain insight into how ML leverages data and algorithms, its use cases and associated concerns to empower responsible and innovative use of the technology. View all business automation topics What is cloud computing?Learn how cloud computing lets you use infrastructure and applications online, without installing and maintaining them on premises. View all compute topics What is cloud computing?Learn how cloud computing enables access to intranet-based infrastructure and applications, eliminating on-site maintenance and enhancing agility and efficiency. What is site reliability engineering (SRE)?Use operations data and software engineering to automate IT operations tasks, accelerate software delivery and minimize IT risk with SRE. Explore our diverse podcast series, featuring expert discussions on top tech topics, real-world application of our products and a look at our culture of diversity, learning and agility.\n",
            "score: 0.47738418\n",
            "===========================================================================\n"
          ]
        }
      ]
    },
    {
      "cell_type": "markdown",
      "source": [
        "## Session 1: Basics"
      ],
      "metadata": {
        "id": "mMrmm7dxNNGO"
      }
    },
    {
      "cell_type": "markdown",
      "source": [
        " ### Simple Graph"
      ],
      "metadata": {
        "id": "azjCXRofJo0X"
      }
    },
    {
      "cell_type": "code",
      "source": [
        "# creating simple state\n",
        "class State(TypedDict):\n",
        "  graph_state: str"
      ],
      "metadata": {
        "id": "zHt0OKUkUsku"
      },
      "execution_count": 10,
      "outputs": []
    },
    {
      "cell_type": "code",
      "source": [
        "# functions are passed as nodes in graphs\n",
        "# creating some functions/nodes\n",
        "\n",
        "def node_a(state: State):\n",
        "  print(\"---Node A---\")\n",
        "  return {\"graph_state\": state['graph_state'] + \"Ball Thrown By A and \"}\n",
        "\n",
        "def node_b(state: State):\n",
        "  print(\"---Node B---\")\n",
        "  return {\"graph_state\": state['graph_state'] + \"Catched By B\"}\n",
        "\n",
        "def node_c(state: State):\n",
        "  print(\"---Node C---\")\n",
        "  return {\"graph_state\": state['graph_state'] + \"Catched By C\"}"
      ],
      "metadata": {
        "id": "Bb5G7q2iU0ma"
      },
      "execution_count": 11,
      "outputs": []
    },
    {
      "cell_type": "code",
      "source": [
        "# creating simple edges kind of DAG\n",
        "# creating function which will be working as a conditional edge\n",
        "\n",
        "def decide_mood(state):\n",
        "    user_input = state['graph_state']\n",
        "    if random.random() < 0.5:\n",
        "        return 0\n",
        "    return 1"
      ],
      "metadata": {
        "id": "oKmF6ZJoVAEz"
      },
      "execution_count": 12,
      "outputs": []
    },
    {
      "cell_type": "code",
      "source": [
        "# first build skeleton of graph\n",
        "\n",
        "# initialize the state\n",
        "builder = StateGraph(State)\n",
        "\n",
        "# add nodes and edges to graphs\n",
        "builder.add_node(\"node_a\", node_a)\n",
        "builder.add_node(\"node_b\", node_b)\n",
        "builder.add_node(\"node_c\", node_c)\n",
        "\n",
        "builder.add_edge(START, \"node_a\")\n",
        "\n",
        "builder.add_conditional_edges(\n",
        "    \"node_a\",\n",
        "    decide_mood,\n",
        "    {\n",
        "        0: \"node_b\",\n",
        "        1: \"node_c\"\n",
        "    }\n",
        ")\n",
        "\n",
        "builder.add_edge(\"node_b\", END)\n",
        "builder.add_edge(\"node_c\", END)\n",
        "\n",
        "# compile the skeleton\n",
        "graph = builder.compile()\n",
        "\n",
        "# view the structure of graph\n",
        "display(Image(graph.get_graph().draw_mermaid_png()))"
      ],
      "metadata": {
        "colab": {
          "base_uri": "https://localhost:8080/",
          "height": 374
        },
        "id": "2OSFgNvsWs-o",
        "outputId": "a793617a-aab9-4198-95cb-1fcc99546fb2"
      },
      "execution_count": 13,
      "outputs": [
        {
          "output_type": "display_data",
          "data": {
            "image/png": "[encoded data removed]",
            "text/plain": [
              "<IPython.core.display.Image object>"
            ]
          },
          "metadata": {}
        }
      ]
    },
    {
      "cell_type": "code",
      "source": [
        "result = graph.invoke({\"graph_state\": \"In the game of Catching Balls, \"})"
      ],
      "metadata": {
        "colab": {
          "base_uri": "https://localhost:8080/"
        },
        "id": "F4f7vpXzYYLs",
        "outputId": "21f047c4-8366-4bbd-e5ad-c1c23bd21d00"
      },
      "execution_count": 14,
      "outputs": [
        {
          "output_type": "stream",
          "name": "stdout",
          "text": [
            "---Node A---\n",
            "---Node C---\n"
          ]
        }
      ]
    },
    {
      "cell_type": "code",
      "source": [
        "print(result['graph_state'])"
      ],
      "metadata": {
        "colab": {
          "base_uri": "https://localhost:8080/"
        },
        "id": "KNOtymu1Yu2p",
        "outputId": "45c05268-c03d-44a7-889e-87ab0eaa5506"
      },
      "execution_count": 15,
      "outputs": [
        {
          "output_type": "stream",
          "name": "stdout",
          "text": [
            "In the game of Catching Balls, Ball Thrown By A and Catched By C\n"
          ]
        }
      ]
    },
    {
      "cell_type": "markdown",
      "source": [
        "### Use of Messages & Tools"
      ],
      "metadata": {
        "id": "hZQYqBmrjWuh"
      }
    },
    {
      "cell_type": "code",
      "source": [
        "messages = [AIMessage(content=f\"So you said you were researching ocean mammals?\", name=\"Model\")]\n",
        "messages.append(HumanMessage(content=f\"Yes, that's right.\",name=\"Bhadwa\"))\n",
        "messages.append(AIMessage(content=f\"Great, what would you like to learn about.\", name=\"Model\"))\n",
        "messages.append(HumanMessage(content=f\"I want to learn about the best place to see Orcas in the US.\", name=\"Bhadwa\"))\n",
        "\n",
        "for m in messages:\n",
        "    m.pretty_print()"
      ],
      "metadata": {
        "colab": {
          "base_uri": "https://localhost:8080/"
        },
        "id": "Q8LlT5UxY3Ua",
        "outputId": "d834d4cb-a5c3-4306-8362-5b116bce355c"
      },
      "execution_count": 16,
      "outputs": [
        {
          "output_type": "stream",
          "name": "stdout",
          "text": [
            "==================================\u001b[1m Ai Message \u001b[0m==================================\n",
            "Name: Model\n",
            "\n",
            "So you said you were researching ocean mammals?\n",
            "================================\u001b[1m Human Message \u001b[0m=================================\n",
            "Name: Bhadwa\n",
            "\n",
            "Yes, that's right.\n",
            "==================================\u001b[1m Ai Message \u001b[0m==================================\n",
            "Name: Model\n",
            "\n",
            "Great, what would you like to learn about.\n",
            "================================\u001b[1m Human Message \u001b[0m=================================\n",
            "Name: Bhadwa\n",
            "\n",
            "I want to learn about the best place to see Orcas in the US.\n"
          ]
        }
      ]
    },
    {
      "cell_type": "code",
      "source": [
        "# we can convert functions into custom tools\n",
        "def multiply(a: int, b: int) -> int:\n",
        "    \"\"\"Multiply a and b.\n",
        "\n",
        "    Args:\n",
        "        a: first int\n",
        "        b: second int\n",
        "    \"\"\"\n",
        "    return a * b\n",
        "\n",
        "llm_with_tools = llm.bind_tools([multiply])"
      ],
      "metadata": {
        "id": "z0YaPTTQjumh"
      },
      "execution_count": 17,
      "outputs": []
    },
    {
      "cell_type": "code",
      "source": [
        "tool_call = llm_with_tools.invoke([HumanMessage(content=\"What is 2 times 3?\")])\n",
        "print(tool_call.tool_calls)"
      ],
      "metadata": {
        "colab": {
          "base_uri": "https://localhost:8080/"
        },
        "id": "dMxW9KOwkGgB",
        "outputId": "b1e7860c-14dc-402d-858f-553536f4d59a"
      },
      "execution_count": 18,
      "outputs": [
        {
          "output_type": "stream",
          "name": "stdout",
          "text": [
            "[{'name': 'multiply', 'args': {'a': 2, 'b': 3}, 'id': 'call_7cm8Fy4j6326zigDLigAKN6O', 'type': 'tool_call'}]\n"
          ]
        }
      ]
    },
    {
      "cell_type": "markdown",
      "source": [
        "### Tool Calling Assistant"
      ],
      "metadata": {
        "id": "w1yp_vOZkZEr"
      }
    },
    {
      "cell_type": "code",
      "source": [
        "# tools\n",
        "def multiply(a: int, b: int) -> int:\n",
        "    \"\"\"Multiply a and b.\n",
        "\n",
        "    Args:\n",
        "        a: first int\n",
        "        b: second int\n",
        "    \"\"\"\n",
        "    return a * b\n",
        "\n",
        "def add(a: int, b: int) -> int:\n",
        "    \"\"\"Adds a and b.\n",
        "\n",
        "    Args:\n",
        "        a: first int\n",
        "        b: second int\n",
        "    \"\"\"\n",
        "    return a + b\n",
        "\n",
        "def divide(a: int, b: int) -> float:\n",
        "    \"\"\"Divide a and b.\n",
        "\n",
        "    Args:\n",
        "        a: first int\n",
        "        b: second int\n",
        "    \"\"\"\n",
        "    return a / b"
      ],
      "metadata": {
        "id": "rdjybljhHqZp"
      },
      "execution_count": 19,
      "outputs": []
    },
    {
      "cell_type": "code",
      "source": [
        "tools = [add, multiply, divide]\n",
        "llm_with_tools = llm.bind_tools(tools, parallel_tool_calls=False)"
      ],
      "metadata": {
        "id": "AEyZ9kcQlo7L"
      },
      "execution_count": 20,
      "outputs": []
    },
    {
      "cell_type": "code",
      "source": [
        "sys_msg = SystemMessage(content=\"You are a helpful assistant tasked with performing arithmetic on a set of inputs.\")\n",
        "\n",
        "def assistant(state: MessagesState):\n",
        "   return {\"messages\": [llm_with_tools.invoke([sys_msg] + state[\"messages\"])]}"
      ],
      "metadata": {
        "id": "Rm-1jPiVIAmF"
      },
      "execution_count": 23,
      "outputs": []
    },
    {
      "cell_type": "code",
      "source": [
        "builder = StateGraph(MessagesState)\n",
        "builder.add_node(\"bhadwa\", assistant)\n",
        "builder.add_node(\"tools\", ToolNode(tools))\n",
        "\n",
        "builder.add_edge(START, \"bhadwa\")\n",
        "\n",
        "builder.add_conditional_edges(\n",
        "    \"bhadwa\",\n",
        "    tools_condition, # by default it checks whether any tool call made or not\n",
        ")\n",
        "\n",
        "builder.add_edge(\"tools\", \"bhadwa\")\n",
        "react_graph = builder.compile()\n",
        "\n",
        "display(Image(react_graph.get_graph(xray=True).draw_mermaid_png()))"
      ],
      "metadata": {
        "id": "d4lcg_H6JDKS",
        "outputId": "d33f3124-d3be-4748-cfe1-a2abef848afe",
        "colab": {
          "base_uri": "https://localhost:8080/",
          "height": 266
        }
      },
      "execution_count": 28,
      "outputs": [
        {
          "output_type": "display_data",
          "data": {
            "image/png": "[encoded data removed]",
            "text/plain": [
              "<IPython.core.display.Image object>"
            ]
          },
          "metadata": {}
        }
      ]
    },
    {
      "cell_type": "code",
      "source": [
        "messages = [HumanMessage(content=\"Add 3 and 4. Multiply the output by 2. Divide the output by 5\")]\n",
        "messages = react_graph.invoke({\"messages\": messages})"
      ],
      "metadata": {
        "id": "VBAf1WDtJlkW"
      },
      "execution_count": 29,
      "outputs": []
    },
    {
      "cell_type": "code",
      "source": [
        "for m in messages['messages']:\n",
        "    m.pretty_print()"
      ],
      "metadata": {
        "id": "VfGy0mktKCrw",
        "outputId": "c707e717-81c5-430c-c3b8-6f746a9af2dd",
        "colab": {
          "base_uri": "https://localhost:8080/"
        }
      },
      "execution_count": 30,
      "outputs": [
        {
          "output_type": "stream",
          "name": "stdout",
          "text": [
            "================================\u001b[1m Human Message \u001b[0m=================================\n",
            "\n",
            "Add 3 and 4. Multiply the output by 2. Divide the output by 5\n",
            "==================================\u001b[1m Ai Message \u001b[0m==================================\n",
            "Tool Calls:\n",
            "  add (call_4lDPEwTlVfDIhsx4bEC4exg4)\n",
            " Call ID: call_4lDPEwTlVfDIhsx4bEC4exg4\n",
            "  Args:\n",
            "    a: 3\n",
            "    b: 4\n",
            "=================================\u001b[1m Tool Message \u001b[0m=================================\n",
            "Name: add\n",
            "\n",
            "7\n",
            "==================================\u001b[1m Ai Message \u001b[0m==================================\n",
            "Tool Calls:\n",
            "  multiply (call_x8UBgIrotvmFj1lIp36qPgla)\n",
            " Call ID: call_x8UBgIrotvmFj1lIp36qPgla\n",
            "  Args:\n",
            "    a: 7\n",
            "    b: 2\n",
            "=================================\u001b[1m Tool Message \u001b[0m=================================\n",
            "Name: multiply\n",
            "\n",
            "14\n",
            "==================================\u001b[1m Ai Message \u001b[0m==================================\n",
            "Tool Calls:\n",
            "  divide (call_134dF9a8DXYCQrYdRUMW7VRJ)\n",
            " Call ID: call_134dF9a8DXYCQrYdRUMW7VRJ\n",
            "  Args:\n",
            "    a: 14\n",
            "    b: 5\n",
            "=================================\u001b[1m Tool Message \u001b[0m=================================\n",
            "Name: divide\n",
            "\n",
            "2.8\n",
            "==================================\u001b[1m Ai Message \u001b[0m==================================\n",
            "\n",
            "The final result after performing the operations is 2.8.\n"
          ]
        }
      ]
    },
    {
      "cell_type": "markdown",
      "source": [
        "**Problem with simple Tool Calling Agent**  \n",
        "It lacks memory, check below example -"
      ],
      "metadata": {
        "id": "CybdgKOgKFiZ"
      }
    },
    {
      "cell_type": "code",
      "source": [
        "messages = [HumanMessage(content=\"Add 3 and 4\")]\n",
        "messages = react_graph.invoke({\"messages\": messages})\n",
        "\n",
        "for m in messages['messages']:\n",
        "    m.pretty_print()\n",
        "\n",
        "messages = [HumanMessage(content=\"and multiply that by 4\")]\n",
        "messages = react_graph.invoke({\"messages\": messages})\n",
        "for m in messages['messages']:\n",
        "    m.pretty_print()"
      ],
      "metadata": {
        "id": "p0Zo4ILlKr-h",
        "outputId": "3ea81825-b327-4ca8-c6fa-b598e664b0ab",
        "colab": {
          "base_uri": "https://localhost:8080/"
        }
      },
      "execution_count": 32,
      "outputs": [
        {
          "output_type": "stream",
          "name": "stdout",
          "text": [
            "================================\u001b[1m Human Message \u001b[0m=================================\n",
            "\n",
            "Add 3 and 4\n",
            "==================================\u001b[1m Ai Message \u001b[0m==================================\n",
            "Tool Calls:\n",
            "  add (call_3u23mVTlfJbAKfE7pN0fSbgb)\n",
            " Call ID: call_3u23mVTlfJbAKfE7pN0fSbgb\n",
            "  Args:\n",
            "    a: 3\n",
            "    b: 4\n",
            "=================================\u001b[1m Tool Message \u001b[0m=================================\n",
            "Name: add\n",
            "\n",
            "7\n",
            "==================================\u001b[1m Ai Message \u001b[0m==================================\n",
            "\n",
            "The sum of 3 and 4 is 7.\n",
            "================================\u001b[1m Human Message \u001b[0m=================================\n",
            "\n",
            "and multiply that by 4\n",
            "==================================\u001b[1m Ai Message \u001b[0m==================================\n",
            "\n",
            "Please provide the number you would like to multiply by 4.\n"
          ]
        }
      ]
    },
    {
      "cell_type": "markdown",
      "source": [
        "*It doesn't know what is that...*"
      ],
      "metadata": {
        "id": "l0xQEIbYK9-f"
      }
    },
    {
      "cell_type": "markdown",
      "source": [
        "### Tool Calling Agent with Memory"
      ],
      "metadata": {
        "id": "D9EakNA_K6aD"
      }
    },
    {
      "cell_type": "markdown",
      "source": [
        "*We just simply have to add persistence via some kind of memory, below is example by using in-memory (default by langgraph)*"
      ],
      "metadata": {
        "id": "5JIke3__LGb6"
      }
    },
    {
      "cell_type": "code",
      "source": [
        "memory = MemorySaver()\n",
        "react_graph_with_memory = builder.compile(checkpointer=memory)"
      ],
      "metadata": {
        "id": "LT_1mS-yLk7H"
      },
      "execution_count": 35,
      "outputs": []
    },
    {
      "cell_type": "markdown",
      "source": [
        "First, we have to pass the memory into checkpointer while compiling graph.  \n",
        "What it does?  \n",
        "It creates a thread with some id and for that thread it stores or kind of checkpoints each node execution (not just last, instead all nodes) and hence, that thread kind of act as a memory for that session."
      ],
      "metadata": {
        "id": "VeV54URwMIaH"
      }
    },
    {
      "cell_type": "code",
      "source": [
        "# Specify a thread\n",
        "config = {\"configurable\": {\"thread_id\": \"1\"}}\n",
        "\n",
        "# Specify an input\n",
        "messages = [HumanMessage(content=\"Add 3 and 4.\")]\n",
        "\n",
        "# Run\n",
        "messages = react_graph_with_memory.invoke({\"messages\": messages},config)\n",
        "for m in messages['messages']:\n",
        "    m.pretty_print()"
      ],
      "metadata": {
        "id": "yLGwCAGQMARt",
        "outputId": "8c63205c-9323-465f-82d1-446efed81665",
        "colab": {
          "base_uri": "https://localhost:8080/"
        }
      },
      "execution_count": 36,
      "outputs": [
        {
          "output_type": "stream",
          "name": "stdout",
          "text": [
            "================================\u001b[1m Human Message \u001b[0m=================================\n",
            "\n",
            "Add 3 and 4.\n",
            "==================================\u001b[1m Ai Message \u001b[0m==================================\n",
            "Tool Calls:\n",
            "  add (call_w5gUPRLnbBadCNJKwPWOWcYn)\n",
            " Call ID: call_w5gUPRLnbBadCNJKwPWOWcYn\n",
            "  Args:\n",
            "    a: 3\n",
            "    b: 4\n",
            "=================================\u001b[1m Tool Message \u001b[0m=================================\n",
            "Name: add\n",
            "\n",
            "7\n",
            "==================================\u001b[1m Ai Message \u001b[0m==================================\n",
            "\n",
            "The sum of 3 and 4 is 7.\n"
          ]
        }
      ]
    },
    {
      "cell_type": "code",
      "source": [
        "messages = [HumanMessage(content=\"Multiply that by 2.\")]\n",
        "messages = react_graph_with_memory.invoke({\"messages\": messages}, config)\n",
        "for m in messages['messages']:\n",
        "    m.pretty_print()"
      ],
      "metadata": {
        "id": "bN-VFeMmL_Rf",
        "outputId": "428a711c-97a5-4d15-8915-b11a813d1e69",
        "colab": {
          "base_uri": "https://localhost:8080/"
        }
      },
      "execution_count": 37,
      "outputs": [
        {
          "output_type": "stream",
          "name": "stdout",
          "text": [
            "================================\u001b[1m Human Message \u001b[0m=================================\n",
            "\n",
            "Add 3 and 4.\n",
            "==================================\u001b[1m Ai Message \u001b[0m==================================\n",
            "Tool Calls:\n",
            "  add (call_w5gUPRLnbBadCNJKwPWOWcYn)\n",
            " Call ID: call_w5gUPRLnbBadCNJKwPWOWcYn\n",
            "  Args:\n",
            "    a: 3\n",
            "    b: 4\n",
            "=================================\u001b[1m Tool Message \u001b[0m=================================\n",
            "Name: add\n",
            "\n",
            "7\n",
            "==================================\u001b[1m Ai Message \u001b[0m==================================\n",
            "\n",
            "The sum of 3 and 4 is 7.\n",
            "================================\u001b[1m Human Message \u001b[0m=================================\n",
            "\n",
            "Multiply that by 2.\n",
            "==================================\u001b[1m Ai Message \u001b[0m==================================\n",
            "Tool Calls:\n",
            "  multiply (call_QXDyp2DdlCXHkY0P2uEQj586)\n",
            " Call ID: call_QXDyp2DdlCXHkY0P2uEQj586\n",
            "  Args:\n",
            "    a: 7\n",
            "    b: 2\n",
            "=================================\u001b[1m Tool Message \u001b[0m=================================\n",
            "Name: multiply\n",
            "\n",
            "14\n",
            "==================================\u001b[1m Ai Message \u001b[0m==================================\n",
            "\n",
            "Multiplying 7 by 2 gives you 14.\n"
          ]
        }
      ]
    },
    {
      "cell_type": "markdown",
      "source": [
        "## Session 2"
      ],
      "metadata": {
        "id": "OyTLriERQvi3"
      }
    },
    {
      "cell_type": "code",
      "source": [],
      "metadata": {
        "id": "1XGLC2btVH8s"
      },
      "execution_count": null,
      "outputs": []
    }
  ],
  "metadata": {
    "language_info": {
      "name": "python"
    },
    "colab": {
      "provenance": []
    },
    "kernelspec": {
      "name": "python3",
      "display_name": "Python 3"
    }
  },
  "nbformat": 4,
  "nbformat_minor": 0
}
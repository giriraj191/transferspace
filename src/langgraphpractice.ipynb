{
  "cells": [
    {
      "cell_type": "markdown",
      "source": [
        "# LangGraph `:)`"
      ],
      "metadata": {
        "id": "-NvyE4Ks2uuh"
      }
    },
    {
      "cell_type": "markdown",
      "source": [
        "## First Things First"
      ],
      "metadata": {
        "id": "oHE6EvsiNCzg"
      }
    },
    {
      "cell_type": "code",
      "source": [
        "# !pip install --quiet -U langchain_openai langchain_core langchain_community tavily-python\n",
        "# !pip install -qU langgraph"
      ],
      "metadata": {
        "id": "R5XnHMbEIFaE"
      },
      "execution_count": 53,
      "outputs": []
    },
    {
      "cell_type": "code",
      "source": [
        "import os\n",
        "import random\n",
        "from pprint import pprint\n",
        "from google.colab import userdata\n",
        "from IPython.display import display, Image\n",
        "from typing import Literal\n",
        "from typing_extensions import TypedDict\n",
        "from langchain_openai import ChatOpenAI\n",
        "from langchain_core.messages import AIMessage, HumanMessage, AnyMessage, SystemMessage, ToolMessage\n",
        "from langchain_community.tools.tavily_search import TavilySearchResults\n",
        "from langgraph.graph import StateGraph, START, END"
      ],
      "metadata": {
        "id": "e_M61Ah32qYx"
      },
      "execution_count": 72,
      "outputs": []
    },
    {
      "cell_type": "code",
      "source": [
        "GIRU_OPENAI_API_KEY = userdata.get('GIRU_OPENAI_API_KEY')\n",
        "GIRU_TAVILY_API_KEY = userdata.get('GIRU_TAVILY_API_KEY')\n",
        "os.environ[\"OPENAI_API_KEY\"] = GIRU_OPENAI_API_KEY\n",
        "os.environ[\"TAVILY_API_KEY\"] = GIRU_TAVILY_API_KEY"
      ],
      "metadata": {
        "id": "ZUAkxl1-HyOE"
      },
      "execution_count": 42,
      "outputs": []
    },
    {
      "cell_type": "code",
      "source": [
        "# checking openai llm\n",
        "llm = ChatOpenAI(model=\"gpt-4o-mini\", temperature=0)\n",
        "result = llm.invoke(\"Hi, are you deepseek?\")\n",
        "\n",
        "# printing results\n",
        "print(\"===\"*25)\n",
        "print(f\"RESPONSE\\n{result.content}\")\n",
        "print(\"===\"*25)\n",
        "print(\"METADATA\")\n",
        "print(f\"model: {result.response_metadata['model_name']}\")\n",
        "for k, v in result.response_metadata['token_usage'].items():\n",
        "  print(f\"{k}: {v}\")"
      ],
      "metadata": {
        "colab": {
          "base_uri": "https://localhost:8080/"
        },
        "id": "uQS0wcQgIcoz",
        "outputId": "a495fca1-f058-4df8-edf2-ce27d9b5c93e"
      },
      "execution_count": 43,
      "outputs": [
        {
          "output_type": "stream",
          "name": "stdout",
          "text": [
            "===========================================================================\n",
            "RESPONSE\n",
            "No, I'm not DeepSeek. I'm an AI language model created by OpenAI. How can I assist you today?\n",
            "===========================================================================\n",
            "METADATA\n",
            "model: gpt-4o-mini-2024-07-18\n",
            "completion_tokens: 25\n",
            "prompt_tokens: 14\n",
            "total_tokens: 39\n",
            "completion_tokens_details: {'accepted_prediction_tokens': 0, 'audio_tokens': 0, 'reasoning_tokens': 0, 'rejected_prediction_tokens': 0}\n",
            "prompt_tokens_details: {'audio_tokens': 0, 'cached_tokens': 0}\n"
          ]
        }
      ]
    },
    {
      "cell_type": "code",
      "source": [
        "# checking tavily tool\n",
        "tavily_search = TavilySearchResults(max_results=3)\n",
        "search_docs = tavily_search.invoke(\"What is LangGraph?\")\n",
        "search_docs\n",
        "\n",
        "# printing results\n",
        "print(\"===\"*25)\n",
        "for doc in search_docs:\n",
        "  for k, v in doc.items():\n",
        "    print(f\"{k}: {v}\")\n",
        "  print(\"===\"*25)"
      ],
      "metadata": {
        "colab": {
          "base_uri": "https://localhost:8080/"
        },
        "id": "h66PWGQcNpOf",
        "outputId": "39d65edd-1a73-4aef-8632-c6746bfed964"
      },
      "execution_count": 44,
      "outputs": [
        {
          "output_type": "stream",
          "name": "stdout",
          "text": [
            "===========================================================================\n",
            "title: Introduction to LangGraph: A Beginner's Guide - Medium\n",
            "url: https://medium.com/@cplog/introduction-to-langgraph-a-beginners-guide-14f9be027141\n",
            "content: In this article, we’ll introduce LangGraph, walk you through its basic concepts, and share some insights and common points of confusion for beginners. While LangChain allows you to define chains of computation (Directed Acyclic Graphs or DAGs), LangGraph introduces the ability to add cycles, enabling more complex, agent-like behaviors where you can call an LLM in a loop, asking it what action to take next. Step 1: Define the Graph State First, we define the state structure for our graph. Step 4: Add Nodes to the Graph LangGraph is a versatile tool for building complex, stateful applications with LLMs. By understanding its core concepts and working through simple examples, beginners can start to leverage its power for their projects.\n",
            "score: 0.8467682\n",
            "===========================================================================\n",
            "title: LangGraph - LangChain\n",
            "url: https://www.langchain.com/langgraph\n",
            "content: Build and scale agentic applications with LangGraph Platform. Design agent-driven user experiences with LangGraph Platform's APIs. Quickly deploy and scale your application with infrastructure built for agents. LangGraph sets the foundation for how we can build and scale AI workloads — from conversational agents, complex task automation, to custom LLM-backed experiences that 'just work'. The next chapter in building complex production-ready features with LLMs is agentic, and with LangGraph and LangSmith, LangChain delivers an out-of-the-box solution to iterate quickly, debug immediately, and scale effortlessly.” LangGraph sets the foundation for how we can build and scale AI workloads — from conversational agents, complex task automation, to custom LLM-backed experiences that 'just work'. LangGraph Platform is a service for deploying and scaling LangGraph applications, with an opinionated API for building agent UXs, plus an integrated developer studio.\n",
            "score: 0.81665546\n",
            "===========================================================================\n",
            "title: What is LangGraph? - IBM\n",
            "url: https://www.ibm.com/think/topics/langgraph\n",
            "content: What is machine learning?Gain insight into how ML leverages data and algorithms, its use cases and associated concerns to empower responsible and innovative use of the technology. View all business automation topics What is cloud computing?Learn how cloud computing lets you use infrastructure and applications online, without installing and maintaining them on premises. View all compute topics What is cloud computing?Learn how cloud computing enables access to intranet-based infrastructure and applications, eliminating on-site maintenance and enhancing agility and efficiency. What is site reliability engineering (SRE)?Use operations data and software engineering to automate IT operations tasks, accelerate software delivery and minimize IT risk with SRE. Explore our diverse podcast series, featuring expert discussions on top tech topics, real-world application of our products and a look at our culture of diversity, learning and agility.\n",
            "score: 0.47738418\n",
            "===========================================================================\n"
          ]
        }
      ]
    },
    {
      "cell_type": "markdown",
      "source": [
        "## Session 1: Basics"
      ],
      "metadata": {
        "id": "mMrmm7dxNNGO"
      }
    },
    {
      "cell_type": "markdown",
      "source": [
        " ### Simple Graph"
      ],
      "metadata": {
        "id": "azjCXRofJo0X"
      }
    },
    {
      "cell_type": "code",
      "source": [
        "# creating simple state\n",
        "class State(TypedDict):\n",
        "  graph_state: str"
      ],
      "metadata": {
        "id": "zHt0OKUkUsku"
      },
      "execution_count": 48,
      "outputs": []
    },
    {
      "cell_type": "code",
      "source": [
        "# functions are passed as nodes in graphs\n",
        "# creating some functions/nodes\n",
        "\n",
        "def node_a(state: State):\n",
        "  print(\"---Node A---\")\n",
        "  return {\"graph_state\": state['graph_state'] + \"Ball Thrown By A and \"}\n",
        "\n",
        "def node_b(state: State):\n",
        "  print(\"---Node B---\")\n",
        "  return {\"graph_state\": state['graph_state'] + \"Catched By B\"}\n",
        "\n",
        "def node_c(state: State):\n",
        "  print(\"---Node C---\")\n",
        "  return {\"graph_state\": state['graph_state'] + \"Catched By C\"}"
      ],
      "metadata": {
        "id": "Bb5G7q2iU0ma"
      },
      "execution_count": 49,
      "outputs": []
    },
    {
      "cell_type": "code",
      "source": [
        "# creating simple edges kind of DAG\n",
        "# creating function which will be working as a conditional edge\n",
        "\n",
        "def decide_mood(state):\n",
        "    user_input = state['graph_state']\n",
        "    if random.random() < 0.5:\n",
        "        return 0\n",
        "    return 1"
      ],
      "metadata": {
        "id": "oKmF6ZJoVAEz"
      },
      "execution_count": 50,
      "outputs": []
    },
    {
      "cell_type": "code",
      "source": [
        "# first build skeleton of graph\n",
        "\n",
        "# initialize the state\n",
        "builder = StateGraph(State)\n",
        "\n",
        "# add nodes and edges to graphs\n",
        "builder.add_node(\"node_a\", node_a)\n",
        "builder.add_node(\"node_b\", node_b)\n",
        "builder.add_node(\"node_c\", node_c)\n",
        "\n",
        "builder.add_edge(START, \"node_a\")\n",
        "\n",
        "builder.add_conditional_edges(\n",
        "    \"node_a\",\n",
        "    decide_mood,\n",
        "    {\n",
        "        0: \"node_b\",\n",
        "        1: \"node_c\"\n",
        "    }\n",
        ")\n",
        "\n",
        "builder.add_edge(\"node_b\", END)\n",
        "builder.add_edge(\"node_c\", END)\n",
        "\n",
        "# compile the skeleton\n",
        "graph = builder.compile()\n",
        "\n",
        "# view the structure of graph\n",
        "display(Image(graph.get_graph().draw_mermaid_png()))"
      ],
      "metadata": {
        "colab": {
          "base_uri": "https://localhost:8080/",
          "height": 374
        },
        "id": "2OSFgNvsWs-o",
        "outputId": "600615b1-f993-4a00-9689-8bf88f059831"
      },
      "execution_count": 57,
      "outputs": [
        {
          "output_type": "display_data",
          "data": {
            "image/png": "[encoded data removed]",
            "text/plain": [
              "<IPython.core.display.Image object>"
            ]
          },
          "metadata": {}
        }
      ]
    },
    {
      "cell_type": "code",
      "source": [
        "result = graph.invoke({\"graph_state\": \"In the game of Catching Balls, \"})"
      ],
      "metadata": {
        "colab": {
          "base_uri": "https://localhost:8080/"
        },
        "id": "F4f7vpXzYYLs",
        "outputId": "9747e6a5-a33d-4475-f614-185c2504519f"
      },
      "execution_count": 70,
      "outputs": [
        {
          "output_type": "stream",
          "name": "stdout",
          "text": [
            "---Node A---\n",
            "---Node B---\n"
          ]
        }
      ]
    },
    {
      "cell_type": "code",
      "source": [
        "print(result['graph_state'])"
      ],
      "metadata": {
        "colab": {
          "base_uri": "https://localhost:8080/"
        },
        "id": "KNOtymu1Yu2p",
        "outputId": "979d5dd0-ab95-4edf-84e1-0c18b75d1fbd"
      },
      "execution_count": 71,
      "outputs": [
        {
          "output_type": "stream",
          "name": "stdout",
          "text": [
            "In the game of Catching Balls, Ball Thrown By A and Catched By B\n"
          ]
        }
      ]
    },
    {
      "cell_type": "markdown",
      "source": [
        "### Use of Messages & Tools"
      ],
      "metadata": {
        "id": "hZQYqBmrjWuh"
      }
    },
    {
      "cell_type": "code",
      "source": [
        "messages = [AIMessage(content=f\"So you said you were researching ocean mammals?\", name=\"Model\")]\n",
        "messages.append(HumanMessage(content=f\"Yes, that's right.\",name=\"Bhadwa\"))\n",
        "messages.append(AIMessage(content=f\"Great, what would you like to learn about.\", name=\"Model\"))\n",
        "messages.append(HumanMessage(content=f\"I want to learn about the best place to see Orcas in the US.\", name=\"Bhadwa\"))\n",
        "\n",
        "for m in messages:\n",
        "    m.pretty_print()"
      ],
      "metadata": {
        "colab": {
          "base_uri": "https://localhost:8080/"
        },
        "id": "Q8LlT5UxY3Ua",
        "outputId": "a6231962-852e-4429-9a7e-1366cf4ff0ce"
      },
      "execution_count": 73,
      "outputs": [
        {
          "output_type": "stream",
          "name": "stdout",
          "text": [
            "==================================\u001b[1m Ai Message \u001b[0m==================================\n",
            "Name: Model\n",
            "\n",
            "So you said you were researching ocean mammals?\n",
            "================================\u001b[1m Human Message \u001b[0m=================================\n",
            "Name: Bhadwa\n",
            "\n",
            "Yes, that's right.\n",
            "==================================\u001b[1m Ai Message \u001b[0m==================================\n",
            "Name: Model\n",
            "\n",
            "Great, what would you like to learn about.\n",
            "================================\u001b[1m Human Message \u001b[0m=================================\n",
            "Name: Bhadwa\n",
            "\n",
            "I want to learn about the best place to see Orcas in the US.\n"
          ]
        }
      ]
    },
    {
      "cell_type": "code",
      "source": [
        "# we can convert functions into custom tools\n",
        "def multiply(a: int, b: int) -> int:\n",
        "    \"\"\"Multiply a and b.\n",
        "\n",
        "    Args:\n",
        "        a: first int\n",
        "        b: second int\n",
        "    \"\"\"\n",
        "    return a * b\n",
        "\n",
        "llm_with_tools = llm.bind_tools([multiply])"
      ],
      "metadata": {
        "id": "z0YaPTTQjumh"
      },
      "execution_count": 74,
      "outputs": []
    },
    {
      "cell_type": "code",
      "source": [
        "tool_call = llm_with_tools.invoke([HumanMessage(content=\"What is 2 times 3?\")])\n",
        "print(tool_call.tool_calls)"
      ],
      "metadata": {
        "id": "dMxW9KOwkGgB",
        "outputId": "6b68677f-e3f0-44a6-b49d-e7b59a6594c3",
        "colab": {
          "base_uri": "https://localhost:8080/"
        }
      },
      "execution_count": 77,
      "outputs": [
        {
          "output_type": "stream",
          "name": "stdout",
          "text": [
            "[{'name': 'multiply', 'args': {'a': 2, 'b': 3}, 'id': 'call_lraA5IDHoKQYWyHuAEwx4QEU', 'type': 'tool_call'}]\n"
          ]
        }
      ]
    },
    {
      "cell_type": "markdown",
      "source": [
        "### Tool Calling Assistant"
      ],
      "metadata": {
        "id": "w1yp_vOZkZEr"
      }
    },
    {
      "cell_type": "code",
      "source": [],
      "metadata": {
        "id": "AEyZ9kcQlo7L"
      },
      "execution_count": null,
      "outputs": []
    }
  ],
  "metadata": {
    "language_info": {
      "name": "python"
    },
    "colab": {
      "provenance": []
    },
    "kernelspec": {
      "name": "python3",
      "display_name": "Python 3"
    }
  },
  "nbformat": 4,
  "nbformat_minor": 0
}
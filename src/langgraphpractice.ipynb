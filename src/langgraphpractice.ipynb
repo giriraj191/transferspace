{
  "cells": [
    {
      "cell_type": "markdown",
      "source": [
        "# LangGraph `:)`"
      ],
      "metadata": {
        "id": "-NvyE4Ks2uuh"
      }
    },
    {
      "cell_type": "markdown",
      "source": [
        "## First Things First"
      ],
      "metadata": {
        "id": "oHE6EvsiNCzg"
      }
    },
    {
      "cell_type": "code",
      "source": [
        "# !pip install --quiet -U langchain_openai langchain_core langchain_community tavily-python langgraph"
      ],
      "metadata": {
        "id": "R5XnHMbEIFaE"
      },
      "execution_count": 2,
      "outputs": []
    },
    {
      "cell_type": "code",
      "source": [
        "import os\n",
        "import random\n",
        "from pprint import pprint\n",
        "from google.colab import userdata\n",
        "from IPython.display import display, Image\n",
        "from operator import add\n",
        "from typing import Literal, Annotated\n",
        "from typing_extensions import TypedDict\n",
        "from pydantic import BaseModel, field_validator, ValidationError\n",
        "from langchain_openai import ChatOpenAI\n",
        "from langchain_core.messages import AIMessage, HumanMessage, AnyMessage, SystemMessage, ToolMessage, RemoveMessage\n",
        "from langchain_community.tools.tavily_search import TavilySearchResults\n",
        "from langgraph.graph import StateGraph, MessagesState, START, END\n",
        "from langgraph.graph.message import add_messages\n",
        "from langgraph.prebuilt import ToolNode, tools_condition\n",
        "from langgraph.checkpoint.memory import MemorySaver"
      ],
      "metadata": {
        "id": "e_M61Ah32qYx"
      },
      "execution_count": 33,
      "outputs": []
    },
    {
      "cell_type": "code",
      "source": [
        "GIRU_OPENAI_API_KEY = userdata.get('GIRU_OPENAI_API_KEY')\n",
        "GIRU_TAVILY_API_KEY = userdata.get('GIRU_TAVILY_API_KEY')\n",
        "os.environ[\"OPENAI_API_KEY\"] = GIRU_OPENAI_API_KEY\n",
        "os.environ[\"TAVILY_API_KEY\"] = GIRU_TAVILY_API_KEY"
      ],
      "metadata": {
        "id": "ZUAkxl1-HyOE"
      },
      "execution_count": 4,
      "outputs": []
    },
    {
      "cell_type": "code",
      "source": [
        "# checking openai llm\n",
        "llm = ChatOpenAI(model=\"gpt-4o-mini\", temperature=0)\n",
        "result = llm.invoke(\"Hi, are you deepseek?\")\n",
        "\n",
        "# printing results\n",
        "print(\"===\"*25)\n",
        "print(f\"RESPONSE\\n{result.content}\")\n",
        "print(\"===\"*25)\n",
        "print(\"METADATA\")\n",
        "print(f\"model: {result.response_metadata['model_name']}\")\n",
        "for k, v in result.response_metadata['token_usage'].items():\n",
        "  print(f\"{k}: {v}\")"
      ],
      "metadata": {
        "colab": {
          "base_uri": "https://localhost:8080/"
        },
        "id": "uQS0wcQgIcoz",
        "outputId": "294ea590-a441-44f8-a7b3-7c1b47e01c19"
      },
      "execution_count": 5,
      "outputs": [
        {
          "output_type": "stream",
          "name": "stdout",
          "text": [
            "===========================================================================\n",
            "RESPONSE\n",
            "No, I'm not DeepSeek. I'm an AI language model created by OpenAI. How can I assist you today?\n",
            "===========================================================================\n",
            "METADATA\n",
            "model: gpt-4o-mini-2024-07-18\n",
            "completion_tokens: 25\n",
            "prompt_tokens: 14\n",
            "total_tokens: 39\n",
            "completion_tokens_details: {'accepted_prediction_tokens': 0, 'audio_tokens': 0, 'reasoning_tokens': 0, 'rejected_prediction_tokens': 0}\n",
            "prompt_tokens_details: {'audio_tokens': 0, 'cached_tokens': 0}\n"
          ]
        }
      ]
    },
    {
      "cell_type": "code",
      "source": [
        "# checking tavily tool\n",
        "tavily_search = TavilySearchResults(max_results=3)\n",
        "search_docs = tavily_search.invoke(\"What is LangGraph?\")\n",
        "search_docs\n",
        "\n",
        "# printing results\n",
        "print(\"===\"*25)\n",
        "for doc in search_docs:\n",
        "  for k, v in doc.items():\n",
        "    print(f\"{k}: {v}\")\n",
        "  print(\"===\"*25)"
      ],
      "metadata": {
        "colab": {
          "base_uri": "https://localhost:8080/"
        },
        "id": "h66PWGQcNpOf",
        "outputId": "8eecd1ce-a639-46ba-b6a6-8c4419041785"
      },
      "execution_count": 6,
      "outputs": [
        {
          "output_type": "stream",
          "name": "stdout",
          "text": [
            "===========================================================================\n",
            "title: Introduction to LangGraph: A Beginner's Guide - Medium\n",
            "url: https://medium.com/@cplog/introduction-to-langgraph-a-beginners-guide-14f9be027141\n",
            "content: In this article, we’ll introduce LangGraph, walk you through its basic concepts, and share some insights and common points of confusion for beginners. While LangChain allows you to define chains of computation (Directed Acyclic Graphs or DAGs), LangGraph introduces the ability to add cycles, enabling more complex, agent-like behaviors where you can call an LLM in a loop, asking it what action to take next. Step 1: Define the Graph State First, we define the state structure for our graph. Step 4: Add Nodes to the Graph LangGraph is a versatile tool for building complex, stateful applications with LLMs. By understanding its core concepts and working through simple examples, beginners can start to leverage its power for their projects.\n",
            "score: 0.8467682\n",
            "===========================================================================\n",
            "title: LangGraph - LangChain\n",
            "url: https://www.langchain.com/langgraph\n",
            "content: Build and scale agentic applications with LangGraph Platform. Craft agent-appropriate UXs using LangGraph Platform's APIs. Quickly deploy and scale your agent with purpose-built infrastructure. Design agent-driven user experiences with LangGraph Platform's APIs. Quickly deploy and scale your application with infrastructure built for agents. LangGraph sets the foundation for how we can build and scale AI workloads — from conversational agents, complex task automation, to custom LLM-backed experiences that 'just work'. LangGraph sets the foundation for how we can build and scale AI workloads — from conversational agents, complex task automation, to custom LLM-backed experiences that 'just work'. LangGraph Platform is a service for deploying and scaling LangGraph applications, with an opinionated API for building agent UXs, plus an integrated developer studio.\n",
            "score: 0.8047902\n",
            "===========================================================================\n",
            "title: What is LangGraph? - IBM\n",
            "url: https://www.ibm.com/think/topics/langgraph\n",
            "content: What is machine learning?Gain insight into how ML leverages data and algorithms, its use cases and associated concerns to empower responsible and innovative use of the technology. View all business automation topics What is cloud computing?Learn how cloud computing lets you use infrastructure and applications online, without installing and maintaining them on premises. View all compute topics What is cloud computing?Learn how cloud computing enables access to intranet-based infrastructure and applications, eliminating on-site maintenance and enhancing agility and efficiency. What is site reliability engineering (SRE)?Use operations data and software engineering to automate IT operations tasks, accelerate software delivery and minimize IT risk with SRE. Explore our diverse podcast series, featuring expert discussions on top tech topics, real-world application of our products and a look at our culture of diversity, learning and agility.\n",
            "score: 0.47738418\n",
            "===========================================================================\n"
          ]
        }
      ]
    },
    {
      "cell_type": "markdown",
      "source": [
        "## Session 1: Basics"
      ],
      "metadata": {
        "id": "mMrmm7dxNNGO"
      }
    },
    {
      "cell_type": "markdown",
      "source": [
        " ### Simple Graph"
      ],
      "metadata": {
        "id": "azjCXRofJo0X"
      }
    },
    {
      "cell_type": "code",
      "source": [
        "# creating simple state\n",
        "class State(TypedDict):\n",
        "  graph_state: str"
      ],
      "metadata": {
        "id": "zHt0OKUkUsku"
      },
      "execution_count": 7,
      "outputs": []
    },
    {
      "cell_type": "code",
      "source": [
        "# functions are passed as nodes in graphs\n",
        "# creating some functions/nodes\n",
        "\n",
        "def node_a(state: State):\n",
        "  print(\"---Node A---\")\n",
        "  return {\"graph_state\": state['graph_state'] + \"Ball Thrown By A and \"}\n",
        "\n",
        "def node_b(state: State):\n",
        "  print(\"---Node B---\")\n",
        "  return {\"graph_state\": state['graph_state'] + \"Catched By B\"}\n",
        "\n",
        "def node_c(state: State):\n",
        "  print(\"---Node C---\")\n",
        "  return {\"graph_state\": state['graph_state'] + \"Catched By C\"}"
      ],
      "metadata": {
        "id": "Bb5G7q2iU0ma"
      },
      "execution_count": 8,
      "outputs": []
    },
    {
      "cell_type": "code",
      "source": [
        "# creating simple edges kind of DAG\n",
        "# creating function which will be working as a conditional edge\n",
        "\n",
        "def decide_mood(state):\n",
        "    user_input = state['graph_state']\n",
        "    if random.random() < 0.5:\n",
        "        return 0\n",
        "    return 1"
      ],
      "metadata": {
        "id": "oKmF6ZJoVAEz"
      },
      "execution_count": 9,
      "outputs": []
    },
    {
      "cell_type": "code",
      "source": [
        "# first build skeleton of graph\n",
        "\n",
        "# initialize the state\n",
        "builder = StateGraph(State)\n",
        "\n",
        "# add nodes and edges to graphs\n",
        "builder.add_node(\"node_a\", node_a)\n",
        "builder.add_node(\"node_b\", node_b)\n",
        "builder.add_node(\"node_c\", node_c)\n",
        "\n",
        "builder.add_edge(START, \"node_a\")\n",
        "\n",
        "builder.add_conditional_edges(\n",
        "    \"node_a\",\n",
        "    decide_mood,\n",
        "    {\n",
        "        0: \"node_b\",\n",
        "        1: \"node_c\"\n",
        "    }\n",
        ")\n",
        "\n",
        "builder.add_edge(\"node_b\", END)\n",
        "builder.add_edge(\"node_c\", END)\n",
        "\n",
        "# compile the skeleton\n",
        "graph = builder.compile()\n",
        "\n",
        "# view the structure of graph\n",
        "display(Image(graph.get_graph().draw_mermaid_png()))"
      ],
      "metadata": {
        "colab": {
          "base_uri": "https://localhost:8080/",
          "height": 374
        },
        "id": "2OSFgNvsWs-o",
        "outputId": "825b7f1f-d9c6-4aac-cd5b-c97c6c8b25d3"
      },
      "execution_count": 10,
      "outputs": [
        {
          "output_type": "display_data",
          "data": {
            "image/png": "[encoded data removed]",
            "text/plain": [
              "<IPython.core.display.Image object>"
            ]
          },
          "metadata": {}
        }
      ]
    },
    {
      "cell_type": "code",
      "source": [
        "result = graph.invoke({\"graph_state\": \"In the game of Catching Balls, \"})"
      ],
      "metadata": {
        "colab": {
          "base_uri": "https://localhost:8080/"
        },
        "id": "F4f7vpXzYYLs",
        "outputId": "d358563a-e2a9-4c4a-8ed6-346ba568ca40"
      },
      "execution_count": 11,
      "outputs": [
        {
          "output_type": "stream",
          "name": "stdout",
          "text": [
            "---Node A---\n",
            "---Node B---\n"
          ]
        }
      ]
    },
    {
      "cell_type": "code",
      "source": [
        "print(result['graph_state'])"
      ],
      "metadata": {
        "colab": {
          "base_uri": "https://localhost:8080/"
        },
        "id": "KNOtymu1Yu2p",
        "outputId": "a2bac771-ca21-46aa-910d-e89ce9229a13"
      },
      "execution_count": 12,
      "outputs": [
        {
          "output_type": "stream",
          "name": "stdout",
          "text": [
            "In the game of Catching Balls, Ball Thrown By A and Catched By B\n"
          ]
        }
      ]
    },
    {
      "cell_type": "markdown",
      "source": [
        "### Use of Messages & Tools"
      ],
      "metadata": {
        "id": "hZQYqBmrjWuh"
      }
    },
    {
      "cell_type": "code",
      "source": [
        "messages = [AIMessage(content=f\"So you said you were researching ocean mammals?\", name=\"Model\")]\n",
        "messages.append(HumanMessage(content=f\"Yes, that's right.\",name=\"Bhadwa\"))\n",
        "messages.append(AIMessage(content=f\"Great, what would you like to learn about.\", name=\"Model\"))\n",
        "messages.append(HumanMessage(content=f\"I want to learn about the best place to see Orcas in the US.\", name=\"Bhadwa\"))\n",
        "\n",
        "for m in messages:\n",
        "    m.pretty_print()"
      ],
      "metadata": {
        "colab": {
          "base_uri": "https://localhost:8080/"
        },
        "id": "Q8LlT5UxY3Ua",
        "outputId": "4370a786-ced8-4a8a-c9bd-f8f5ad7f7808"
      },
      "execution_count": 13,
      "outputs": [
        {
          "output_type": "stream",
          "name": "stdout",
          "text": [
            "==================================\u001b[1m Ai Message \u001b[0m==================================\n",
            "Name: Model\n",
            "\n",
            "So you said you were researching ocean mammals?\n",
            "================================\u001b[1m Human Message \u001b[0m=================================\n",
            "Name: Bhadwa\n",
            "\n",
            "Yes, that's right.\n",
            "==================================\u001b[1m Ai Message \u001b[0m==================================\n",
            "Name: Model\n",
            "\n",
            "Great, what would you like to learn about.\n",
            "================================\u001b[1m Human Message \u001b[0m=================================\n",
            "Name: Bhadwa\n",
            "\n",
            "I want to learn about the best place to see Orcas in the US.\n"
          ]
        }
      ]
    },
    {
      "cell_type": "code",
      "source": [
        "# we can convert functions into custom tools\n",
        "def multiply(a: int, b: int) -> int:\n",
        "    \"\"\"Multiply a and b.\n",
        "\n",
        "    Args:\n",
        "        a: first int\n",
        "        b: second int\n",
        "    \"\"\"\n",
        "    return a * b\n",
        "\n",
        "llm_with_tools = llm.bind_tools([multiply])"
      ],
      "metadata": {
        "id": "z0YaPTTQjumh"
      },
      "execution_count": 14,
      "outputs": []
    },
    {
      "cell_type": "code",
      "source": [
        "tool_call = llm_with_tools.invoke([HumanMessage(content=\"What is 2 times 3?\")])\n",
        "print(tool_call.tool_calls)"
      ],
      "metadata": {
        "colab": {
          "base_uri": "https://localhost:8080/"
        },
        "id": "dMxW9KOwkGgB",
        "outputId": "3c681837-3b31-4852-c747-35f496e1d744"
      },
      "execution_count": 15,
      "outputs": [
        {
          "output_type": "stream",
          "name": "stdout",
          "text": [
            "[{'name': 'multiply', 'args': {'a': 2, 'b': 3}, 'id': 'call_yGXHyOBgYYlifrW35DNI0SNB', 'type': 'tool_call'}]\n"
          ]
        }
      ]
    },
    {
      "cell_type": "markdown",
      "source": [
        "### Tool Calling Assistant"
      ],
      "metadata": {
        "id": "w1yp_vOZkZEr"
      }
    },
    {
      "cell_type": "code",
      "source": [
        "# tools\n",
        "def multiply(a: int, b: int) -> int:\n",
        "    \"\"\"Multiply a and b.\n",
        "\n",
        "    Args:\n",
        "        a: first int\n",
        "        b: second int\n",
        "    \"\"\"\n",
        "    return a * b\n",
        "\n",
        "def add(a: int, b: int) -> int:\n",
        "    \"\"\"Adds a and b.\n",
        "\n",
        "    Args:\n",
        "        a: first int\n",
        "        b: second int\n",
        "    \"\"\"\n",
        "    return a + b\n",
        "\n",
        "def divide(a: int, b: int) -> float:\n",
        "    \"\"\"Divide a and b.\n",
        "\n",
        "    Args:\n",
        "        a: first int\n",
        "        b: second int\n",
        "    \"\"\"\n",
        "    return a / b"
      ],
      "metadata": {
        "id": "rdjybljhHqZp"
      },
      "execution_count": 16,
      "outputs": []
    },
    {
      "cell_type": "code",
      "source": [
        "tools = [add, multiply, divide]\n",
        "llm_with_tools = llm.bind_tools(tools, parallel_tool_calls=False)"
      ],
      "metadata": {
        "id": "AEyZ9kcQlo7L"
      },
      "execution_count": 17,
      "outputs": []
    },
    {
      "cell_type": "code",
      "source": [
        "sys_msg = SystemMessage(content=\"You are a helpful assistant tasked with performing arithmetic on a set of inputs.\")\n",
        "\n",
        "def assistant(state: MessagesState):\n",
        "   return {\"messages\": [llm_with_tools.invoke([sys_msg] + state[\"messages\"])]}"
      ],
      "metadata": {
        "id": "Rm-1jPiVIAmF"
      },
      "execution_count": 18,
      "outputs": []
    },
    {
      "cell_type": "code",
      "source": [
        "builder = StateGraph(MessagesState)\n",
        "builder.add_node(\"bhadwa\", assistant)\n",
        "builder.add_node(\"tools\", ToolNode(tools))\n",
        "\n",
        "builder.add_edge(START, \"bhadwa\")\n",
        "\n",
        "builder.add_conditional_edges(\n",
        "    \"bhadwa\",\n",
        "    tools_condition, # by default it checks whether any tool call made or not\n",
        ")\n",
        "\n",
        "builder.add_edge(\"tools\", \"bhadwa\")\n",
        "react_graph = builder.compile()\n",
        "\n",
        "display(Image(react_graph.get_graph(xray=True).draw_mermaid_png()))"
      ],
      "metadata": {
        "id": "d4lcg_H6JDKS",
        "outputId": "925e1e0c-408c-40ab-8a9a-b8548d05ada0",
        "colab": {
          "base_uri": "https://localhost:8080/",
          "height": 266
        }
      },
      "execution_count": 19,
      "outputs": [
        {
          "output_type": "display_data",
          "data": {
            "image/png": "[encoded data removed]",
            "text/plain": [
              "<IPython.core.display.Image object>"
            ]
          },
          "metadata": {}
        }
      ]
    },
    {
      "cell_type": "code",
      "source": [
        "messages = [HumanMessage(content=\"Add 3 and 4. Multiply the output by 2. Divide the output by 5\")]\n",
        "messages = react_graph.invoke({\"messages\": messages})"
      ],
      "metadata": {
        "id": "VBAf1WDtJlkW"
      },
      "execution_count": 20,
      "outputs": []
    },
    {
      "cell_type": "code",
      "source": [
        "for m in messages['messages']:\n",
        "    m.pretty_print()"
      ],
      "metadata": {
        "id": "VfGy0mktKCrw",
        "outputId": "05e280c8-50ba-42bb-af65-627913a216ac",
        "colab": {
          "base_uri": "https://localhost:8080/"
        }
      },
      "execution_count": 21,
      "outputs": [
        {
          "output_type": "stream",
          "name": "stdout",
          "text": [
            "================================\u001b[1m Human Message \u001b[0m=================================\n",
            "\n",
            "Add 3 and 4. Multiply the output by 2. Divide the output by 5\n",
            "==================================\u001b[1m Ai Message \u001b[0m==================================\n",
            "Tool Calls:\n",
            "  add (call_FSUXJ3BEmuEqlEq61sM0ufNe)\n",
            " Call ID: call_FSUXJ3BEmuEqlEq61sM0ufNe\n",
            "  Args:\n",
            "    a: 3\n",
            "    b: 4\n",
            "=================================\u001b[1m Tool Message \u001b[0m=================================\n",
            "Name: add\n",
            "\n",
            "7\n",
            "==================================\u001b[1m Ai Message \u001b[0m==================================\n",
            "Tool Calls:\n",
            "  multiply (call_AIZcgzprhrN2zVFP77tuDxn9)\n",
            " Call ID: call_AIZcgzprhrN2zVFP77tuDxn9\n",
            "  Args:\n",
            "    a: 7\n",
            "    b: 2\n",
            "=================================\u001b[1m Tool Message \u001b[0m=================================\n",
            "Name: multiply\n",
            "\n",
            "14\n",
            "==================================\u001b[1m Ai Message \u001b[0m==================================\n",
            "Tool Calls:\n",
            "  divide (call_belteAFXnbqAB9ZLt86M1AyL)\n",
            " Call ID: call_belteAFXnbqAB9ZLt86M1AyL\n",
            "  Args:\n",
            "    a: 14\n",
            "    b: 5\n",
            "=================================\u001b[1m Tool Message \u001b[0m=================================\n",
            "Name: divide\n",
            "\n",
            "2.8\n",
            "==================================\u001b[1m Ai Message \u001b[0m==================================\n",
            "\n",
            "The final result after performing the operations is 2.8.\n"
          ]
        }
      ]
    },
    {
      "cell_type": "markdown",
      "source": [
        "**Problem with simple Tool Calling Agent**  \n",
        "It lacks memory, check below example -"
      ],
      "metadata": {
        "id": "CybdgKOgKFiZ"
      }
    },
    {
      "cell_type": "code",
      "source": [
        "messages = [HumanMessage(content=\"Add 3 and 4\")]\n",
        "messages = react_graph.invoke({\"messages\": messages})\n",
        "\n",
        "for m in messages['messages']:\n",
        "    m.pretty_print()\n",
        "\n",
        "messages = [HumanMessage(content=\"and multiply that by 4\")]\n",
        "messages = react_graph.invoke({\"messages\": messages})\n",
        "for m in messages['messages']:\n",
        "    m.pretty_print()"
      ],
      "metadata": {
        "id": "p0Zo4ILlKr-h",
        "outputId": "8b855e28-192c-4d50-d16b-1a2053119805",
        "colab": {
          "base_uri": "https://localhost:8080/"
        }
      },
      "execution_count": 22,
      "outputs": [
        {
          "output_type": "stream",
          "name": "stdout",
          "text": [
            "================================\u001b[1m Human Message \u001b[0m=================================\n",
            "\n",
            "Add 3 and 4\n",
            "==================================\u001b[1m Ai Message \u001b[0m==================================\n",
            "Tool Calls:\n",
            "  add (call_rae7OOUUCkeumAjEv73edmFP)\n",
            " Call ID: call_rae7OOUUCkeumAjEv73edmFP\n",
            "  Args:\n",
            "    a: 3\n",
            "    b: 4\n",
            "=================================\u001b[1m Tool Message \u001b[0m=================================\n",
            "Name: add\n",
            "\n",
            "7\n",
            "==================================\u001b[1m Ai Message \u001b[0m==================================\n",
            "\n",
            "The sum of 3 and 4 is 7.\n",
            "================================\u001b[1m Human Message \u001b[0m=================================\n",
            "\n",
            "and multiply that by 4\n",
            "==================================\u001b[1m Ai Message \u001b[0m==================================\n",
            "\n",
            "Could you please provide the number you would like to multiply by 4?\n"
          ]
        }
      ]
    },
    {
      "cell_type": "markdown",
      "source": [
        "*It doesn't know what is that...*"
      ],
      "metadata": {
        "id": "l0xQEIbYK9-f"
      }
    },
    {
      "cell_type": "markdown",
      "source": [
        "### Tool Calling Agent with Memory"
      ],
      "metadata": {
        "id": "D9EakNA_K6aD"
      }
    },
    {
      "cell_type": "markdown",
      "source": [
        "*We just simply have to add persistence via some kind of memory, below is example by using in-memory (default by langgraph)*"
      ],
      "metadata": {
        "id": "5JIke3__LGb6"
      }
    },
    {
      "cell_type": "code",
      "source": [
        "memory = MemorySaver()\n",
        "react_graph_with_memory = builder.compile(checkpointer=memory)"
      ],
      "metadata": {
        "id": "LT_1mS-yLk7H"
      },
      "execution_count": 23,
      "outputs": []
    },
    {
      "cell_type": "markdown",
      "source": [
        "First, we have to pass the memory into checkpointer while compiling graph.  \n",
        "What it does?  \n",
        "It creates a thread with some id and for that thread it stores or kind of checkpoints each node execution (not just last, instead all nodes) and hence, that thread kind of act as a memory for that session."
      ],
      "metadata": {
        "id": "VeV54URwMIaH"
      }
    },
    {
      "cell_type": "code",
      "source": [
        "# Specify a thread\n",
        "config = {\"configurable\": {\"thread_id\": \"1\"}}\n",
        "\n",
        "# Specify an input\n",
        "messages = [HumanMessage(content=\"Add 3 and 4.\")]\n",
        "\n",
        "# Run\n",
        "messages = react_graph_with_memory.invoke({\"messages\": messages},config)\n",
        "for m in messages['messages']:\n",
        "    m.pretty_print()"
      ],
      "metadata": {
        "id": "yLGwCAGQMARt",
        "outputId": "df66624e-4093-4f5a-cce6-398ce81142db",
        "colab": {
          "base_uri": "https://localhost:8080/"
        }
      },
      "execution_count": 24,
      "outputs": [
        {
          "output_type": "stream",
          "name": "stdout",
          "text": [
            "================================\u001b[1m Human Message \u001b[0m=================================\n",
            "\n",
            "Add 3 and 4.\n",
            "==================================\u001b[1m Ai Message \u001b[0m==================================\n",
            "Tool Calls:\n",
            "  add (call_UYdxz6DOlx7psM2LNloNEYAe)\n",
            " Call ID: call_UYdxz6DOlx7psM2LNloNEYAe\n",
            "  Args:\n",
            "    a: 3\n",
            "    b: 4\n",
            "=================================\u001b[1m Tool Message \u001b[0m=================================\n",
            "Name: add\n",
            "\n",
            "7\n",
            "==================================\u001b[1m Ai Message \u001b[0m==================================\n",
            "\n",
            "The sum of 3 and 4 is 7.\n"
          ]
        }
      ]
    },
    {
      "cell_type": "code",
      "source": [
        "messages = [HumanMessage(content=\"Multiply that by 2.\")]\n",
        "messages = react_graph_with_memory.invoke({\"messages\": messages}, config)\n",
        "for m in messages['messages']:\n",
        "    m.pretty_print()"
      ],
      "metadata": {
        "id": "bN-VFeMmL_Rf",
        "outputId": "58a2068a-ca54-4e18-dc64-d1f01276051c",
        "colab": {
          "base_uri": "https://localhost:8080/"
        }
      },
      "execution_count": 25,
      "outputs": [
        {
          "output_type": "stream",
          "name": "stdout",
          "text": [
            "================================\u001b[1m Human Message \u001b[0m=================================\n",
            "\n",
            "Add 3 and 4.\n",
            "==================================\u001b[1m Ai Message \u001b[0m==================================\n",
            "Tool Calls:\n",
            "  add (call_UYdxz6DOlx7psM2LNloNEYAe)\n",
            " Call ID: call_UYdxz6DOlx7psM2LNloNEYAe\n",
            "  Args:\n",
            "    a: 3\n",
            "    b: 4\n",
            "=================================\u001b[1m Tool Message \u001b[0m=================================\n",
            "Name: add\n",
            "\n",
            "7\n",
            "==================================\u001b[1m Ai Message \u001b[0m==================================\n",
            "\n",
            "The sum of 3 and 4 is 7.\n",
            "================================\u001b[1m Human Message \u001b[0m=================================\n",
            "\n",
            "Multiply that by 2.\n",
            "==================================\u001b[1m Ai Message \u001b[0m==================================\n",
            "Tool Calls:\n",
            "  multiply (call_LnhOeLgDr36IZv6j1iE4gwht)\n",
            " Call ID: call_LnhOeLgDr36IZv6j1iE4gwht\n",
            "  Args:\n",
            "    a: 7\n",
            "    b: 2\n",
            "=================================\u001b[1m Tool Message \u001b[0m=================================\n",
            "Name: multiply\n",
            "\n",
            "14\n",
            "==================================\u001b[1m Ai Message \u001b[0m==================================\n",
            "\n",
            "Multiplying 7 by 2 gives you 14.\n"
          ]
        }
      ]
    },
    {
      "cell_type": "markdown",
      "source": [
        "## Session 2: More on Validation & Reducers"
      ],
      "metadata": {
        "id": "OyTLriERQvi3"
      }
    },
    {
      "cell_type": "markdown",
      "source": [
        "### Reducers"
      ],
      "metadata": {
        "id": "OUqwRRCwYzEM"
      }
    },
    {
      "cell_type": "code",
      "source": [
        "class State(TypedDict):\n",
        "    foo: Annotated[list[int], add]\n",
        "\n",
        "def node_1(state):\n",
        "    print(\"---Node 1---\")\n",
        "    return {\"foo\": [state['foo'][0] + 1]}\n",
        "\n",
        "# Build graph\n",
        "builder = StateGraph(State)\n",
        "builder.add_node(\"node_1\", node_1)\n",
        "\n",
        "# Logic\n",
        "builder.add_edge(START, \"node_1\")\n",
        "builder.add_edge(\"node_1\", END)\n",
        "\n",
        "# Add\n",
        "graph = builder.compile()\n",
        "\n",
        "# View\n",
        "display(Image(graph.get_graph().draw_mermaid_png()))"
      ],
      "metadata": {
        "id": "1XGLC2btVH8s",
        "outputId": "77acc155-67f1-4153-8fa6-8a222ad39bdc",
        "colab": {
          "base_uri": "https://localhost:8080/",
          "height": 251
        }
      },
      "execution_count": 28,
      "outputs": [
        {
          "output_type": "display_data",
          "data": {
            "image/png": "[encoded data removed]",
            "text/plain": [
              "<IPython.core.display.Image object>"
            ]
          },
          "metadata": {}
        }
      ]
    },
    {
      "cell_type": "code",
      "source": [
        "graph.invoke({\"foo\" : [1]})"
      ],
      "metadata": {
        "id": "qz2lKOykXy5a",
        "outputId": "75ef7031-b52b-4ce4-8b25-14454c34f418",
        "colab": {
          "base_uri": "https://localhost:8080/"
        }
      },
      "execution_count": 29,
      "outputs": [
        {
          "output_type": "stream",
          "name": "stdout",
          "text": [
            "---Node 1---\n"
          ]
        },
        {
          "output_type": "execute_result",
          "data": {
            "text/plain": [
              "{'foo': [1, 2]}"
            ]
          },
          "metadata": {},
          "execution_count": 29
        }
      ]
    },
    {
      "cell_type": "markdown",
      "source": [
        "**Below example shows that `reducer functions` helps in handling `race condtions`**"
      ],
      "metadata": {
        "id": "-AQ0f5DoYJOH"
      }
    },
    {
      "cell_type": "code",
      "source": [
        "def node_1(state):\n",
        "    print(\"---Node 1---\")\n",
        "    return {\"foo\": [state['foo'][-1] + 1]}\n",
        "\n",
        "def node_2(state):\n",
        "    print(\"---Node 2---\")\n",
        "    return {\"foo\": [state['foo'][-1] + 1]}\n",
        "\n",
        "def node_3(state):\n",
        "    print(\"---Node 3---\")\n",
        "    return {\"foo\": [state['foo'][-1] + 1]}\n",
        "\n",
        "# Build graph\n",
        "builder = StateGraph(State)\n",
        "builder.add_node(\"node_1\", node_1)\n",
        "builder.add_node(\"node_2\", node_2)\n",
        "builder.add_node(\"node_3\", node_3)\n",
        "\n",
        "# Logic\n",
        "builder.add_edge(START, \"node_1\")\n",
        "builder.add_edge(\"node_1\", \"node_2\")\n",
        "builder.add_edge(\"node_1\", \"node_3\")\n",
        "builder.add_edge(\"node_2\", END)\n",
        "builder.add_edge(\"node_3\", END)\n",
        "\n",
        "# Add\n",
        "graph = builder.compile()\n",
        "\n",
        "# View\n",
        "display(Image(graph.get_graph().draw_mermaid_png()))"
      ],
      "metadata": {
        "id": "txHB_ABYX3CC",
        "outputId": "2ce2fd8d-ccea-4ede-d5a7-56d491d87bf9",
        "colab": {
          "base_uri": "https://localhost:8080/",
          "height": 350
        }
      },
      "execution_count": 30,
      "outputs": [
        {
          "output_type": "display_data",
          "data": {
            "image/png": "[encoded data removed]",
            "text/plain": [
              "<IPython.core.display.Image object>"
            ]
          },
          "metadata": {}
        }
      ]
    },
    {
      "cell_type": "code",
      "source": [
        "graph.invoke({\"foo\" : [1]})"
      ],
      "metadata": {
        "id": "w61B_gQGYZjJ",
        "outputId": "d28c5833-0656-4a8a-bec0-1451a3236a00",
        "colab": {
          "base_uri": "https://localhost:8080/"
        }
      },
      "execution_count": 31,
      "outputs": [
        {
          "output_type": "stream",
          "name": "stdout",
          "text": [
            "---Node 1---\n",
            "---Node 2---\n",
            "---Node 3---\n"
          ]
        },
        {
          "output_type": "execute_result",
          "data": {
            "text/plain": [
              "{'foo': [1, 2, 3, 3]}"
            ]
          },
          "metadata": {},
          "execution_count": 31
        }
      ]
    },
    {
      "cell_type": "markdown",
      "source": [
        "### More on ` messages ` and ` MessageState `  \n",
        "By providing `id` to messages we can do a lot with them like updation, deletion and concatentation etc."
      ],
      "metadata": {
        "id": "ctSYvUy9Yb5t"
      }
    },
    {
      "cell_type": "markdown",
      "source": [
        "**Updating messages using `id`**"
      ],
      "metadata": {
        "id": "O6kTKV5OZuSo"
      }
    },
    {
      "cell_type": "code",
      "source": [
        "# Initial state\n",
        "initial_messages = [AIMessage(content=\"Hello! How can I assist you?\", name=\"Model\", id=\"1\"),\n",
        "                    HumanMessage(content=\"I'm looking for information on marine biology.\", name=\"Lance\", id=\"2\")\n",
        "                   ]\n",
        "\n",
        "# New message to add\n",
        "new_message = HumanMessage(content=\"I'm looking for information on whales, specifically\", name=\"Lance\", id=\"2\")\n",
        "\n",
        "# Test\n",
        "add_messages(initial_messages , new_message)"
      ],
      "metadata": {
        "id": "Jo92OT9zY8qL",
        "outputId": "d5fb493c-0193-4ed4-907b-4e3db3217320",
        "colab": {
          "base_uri": "https://localhost:8080/"
        }
      },
      "execution_count": 32,
      "outputs": [
        {
          "output_type": "execute_result",
          "data": {
            "text/plain": [
              "[AIMessage(content='Hello! How can I assist you?', additional_kwargs={}, response_metadata={}, name='Model', id='1'),\n",
              " HumanMessage(content=\"I'm looking for information on whales, specifically\", additional_kwargs={}, response_metadata={}, name='Lance', id='2')]"
            ]
          },
          "metadata": {},
          "execution_count": 32
        }
      ]
    },
    {
      "cell_type": "markdown",
      "source": [
        "**Deleting messages using `id`**   \n",
        "Here is the trick that `add_messages` reducer will recognize the `RemoveMessage` and automatically delete the message with the particular `id`"
      ],
      "metadata": {
        "id": "q293PWFzZ33M"
      }
    },
    {
      "cell_type": "code",
      "source": [
        "messages = [AIMessage(\"Hi.\", name=\"Bot\", id=\"1\")]\n",
        "messages.append(HumanMessage(\"Hi.\", name=\"Lance\", id=\"2\"))\n",
        "messages.append(AIMessage(\"So you said you were researching ocean mammals?\", name=\"Bot\", id=\"3\"))\n",
        "messages.append(HumanMessage(\"Yes, I know about whales. But what others should I learn about?\", name=\"Lance\", id=\"4\"))\n",
        "\n",
        "# Isolate messages to delete\n",
        "delete_messages = [RemoveMessage(id=m.id) for m in messages[:-2]]\n",
        "print(delete_messages)"
      ],
      "metadata": {
        "id": "zyVl0vXSZpLP",
        "outputId": "2fa2ee3e-8af4-4126-f436-ae254e3fd4de",
        "colab": {
          "base_uri": "https://localhost:8080/"
        }
      },
      "execution_count": 34,
      "outputs": [
        {
          "output_type": "stream",
          "name": "stdout",
          "text": [
            "[RemoveMessage(content='', additional_kwargs={}, response_metadata={}, id='1'), RemoveMessage(content='', additional_kwargs={}, response_metadata={}, id='2')]\n"
          ]
        }
      ]
    },
    {
      "cell_type": "code",
      "source": [
        "add_messages(messages , delete_messages)"
      ],
      "metadata": {
        "id": "iXgvgRVlZpIm",
        "outputId": "e46d1e10-4b0f-4ea3-b96b-b59902e6365e",
        "colab": {
          "base_uri": "https://localhost:8080/"
        }
      },
      "execution_count": 35,
      "outputs": [
        {
          "output_type": "execute_result",
          "data": {
            "text/plain": [
              "[AIMessage(content='So you said you were researching ocean mammals?', additional_kwargs={}, response_metadata={}, name='Bot', id='3'),\n",
              " HumanMessage(content='Yes, I know about whales. But what others should I learn about?', additional_kwargs={}, response_metadata={}, name='Lance', id='4')]"
            ]
          },
          "metadata": {},
          "execution_count": 35
        }
      ]
    },
    {
      "cell_type": "markdown",
      "source": [
        "Hence, by using this we can do trimming and filtering of messages."
      ],
      "metadata": {
        "id": "szrfaeEZafro"
      }
    },
    {
      "cell_type": "markdown",
      "source": [
        "### Mulitple Schemas  \n",
        "Nodes can talk or share information in different states also, they don't require to always follow the same state as passed in input intitially."
      ],
      "metadata": {
        "id": "tu8DTsGKaoNo"
      }
    },
    {
      "cell_type": "code",
      "source": [
        "class OverallState(TypedDict):\n",
        "    foo: int\n",
        "\n",
        "class PrivateState(TypedDict):\n",
        "    baz: int\n",
        "\n",
        "def node_1(state: OverallState) -> PrivateState:\n",
        "    print(\"---Node 1---\")\n",
        "    return {\"baz\": state['foo'] + 1}\n",
        "\n",
        "def node_2(state: PrivateState) -> OverallState:\n",
        "    print(\"---Node 2---\")\n",
        "    return {\"foo\": state['baz'] + 1}\n",
        "\n",
        "# Build graph\n",
        "builder = StateGraph(OverallState)\n",
        "builder.add_node(\"node_1\", node_1)\n",
        "builder.add_node(\"node_2\", node_2)\n",
        "\n",
        "# Logic\n",
        "builder.add_edge(START, \"node_1\")\n",
        "builder.add_edge(\"node_1\", \"node_2\")\n",
        "builder.add_edge(\"node_2\", END)\n",
        "\n",
        "# Add\n",
        "graph = builder.compile()\n",
        "\n",
        "# View\n",
        "display(Image(graph.get_graph().draw_mermaid_png()))"
      ],
      "metadata": {
        "id": "iNsqQB7paW5J",
        "outputId": "dbba9213-5721-462a-a870-0e447079f5e8",
        "colab": {
          "base_uri": "https://localhost:8080/",
          "height": 350
        }
      },
      "execution_count": 36,
      "outputs": [
        {
          "output_type": "display_data",
          "data": {
            "image/png": "[encoded data removed]",
            "text/plain": [
              "<IPython.core.display.Image object>"
            ]
          },
          "metadata": {}
        }
      ]
    },
    {
      "cell_type": "code",
      "source": [
        "graph.invoke({\"foo\" : 1})"
      ],
      "metadata": {
        "id": "Lyr5uuW-bFmp",
        "outputId": "b2032cb0-74a6-4972-c245-c46099410fce",
        "colab": {
          "base_uri": "https://localhost:8080/"
        }
      },
      "execution_count": 37,
      "outputs": [
        {
          "output_type": "stream",
          "name": "stdout",
          "text": [
            "---Node 1---\n",
            "---Node 2---\n"
          ]
        },
        {
          "output_type": "execute_result",
          "data": {
            "text/plain": [
              "{'foo': 3}"
            ]
          },
          "metadata": {},
          "execution_count": 37
        }
      ]
    },
    {
      "cell_type": "code",
      "source": [
        "class InputState(TypedDict):\n",
        "    question: str\n",
        "\n",
        "class OutputState(TypedDict):\n",
        "    answer: str\n",
        "\n",
        "class OverallState(TypedDict):\n",
        "    question: str\n",
        "    answer: str\n",
        "    notes: str\n",
        "\n",
        "def thinking_node(state: InputState):\n",
        "    return {\"answer\": \"bye\", \"notes\": \"... his is name is Lance\"}\n",
        "\n",
        "def answer_node(state: OverallState) -> OutputState:\n",
        "    return {\"answer\": \"bye Lance\"}\n",
        "\n",
        "graph = StateGraph(OverallState, input=InputState, output=OutputState)\n",
        "graph.add_node(\"answer_node\", answer_node)\n",
        "graph.add_node(\"thinking_node\", thinking_node)\n",
        "graph.add_edge(START, \"thinking_node\")\n",
        "graph.add_edge(\"thinking_node\", \"answer_node\")\n",
        "graph.add_edge(\"answer_node\", END)\n",
        "\n",
        "graph = graph.compile()\n",
        "\n",
        "# View\n",
        "display(Image(graph.get_graph().draw_mermaid_png()))\n",
        "\n",
        "graph.invoke({\"question\":\"hi\"})"
      ],
      "metadata": {
        "id": "Ql_3Ou3sbIOa",
        "outputId": "b19a507b-fdfe-44c2-967e-19af17e43e9b",
        "colab": {
          "base_uri": "https://localhost:8080/",
          "height": 368
        }
      },
      "execution_count": 40,
      "outputs": [
        {
          "output_type": "display_data",
          "data": {
            "image/png": "[encoded data removed]",
            "text/plain": [
              "<IPython.core.display.Image object>"
            ]
          },
          "metadata": {}
        },
        {
          "output_type": "execute_result",
          "data": {
            "text/plain": [
              "{'answer': 'bye Lance'}"
            ]
          },
          "metadata": {},
          "execution_count": 40
        }
      ]
    },
    {
      "cell_type": "markdown",
      "source": [
        "### Chatbot with Summary Key"
      ],
      "metadata": {
        "id": "FFZoNzwebp9k"
      }
    },
    {
      "cell_type": "code",
      "source": [
        "class State(MessagesState):\n",
        "    summary: str"
      ],
      "metadata": {
        "id": "vDdG1OOjcKUh"
      },
      "execution_count": 41,
      "outputs": []
    },
    {
      "cell_type": "code",
      "source": [
        "def call_model(state: State):\n",
        "    summary = state.get(\"summary\", \"\")\n",
        "    if summary:\n",
        "        system_message = f\"Summary of conversation earlier: {summary}\"\n",
        "        messages = [SystemMessage(content=system_message)] + state[\"messages\"]\n",
        "    else:\n",
        "        messages = state[\"messages\"]\n",
        "    response = llm.invoke(messages)\n",
        "    return {\"messages\": response}"
      ],
      "metadata": {
        "id": "7Pvg3SuycLUc"
      },
      "execution_count": 42,
      "outputs": []
    },
    {
      "cell_type": "code",
      "source": [
        "def summarize_conversation(state: State):\n",
        "    summary = state.get(\"summary\", \"\")\n",
        "    if summary:\n",
        "        summary_message = (\n",
        "            f\"This is summary of the conversation to date: {summary}\\n\\n\"\n",
        "            \"Extend the summary by taking into account the new messages above\"\n",
        "        )\n",
        "    else:\n",
        "        summary_message = \"Create a summary of the conversation above\"\n",
        "\n",
        "    messages = state[\"messages\"] + [HumanMessage(content=summary_message)]\n",
        "    response = llm.invoke(messages)\n",
        "\n",
        "    # Delete all except the 2 most recent messages\n",
        "    delete_messages = [RemoveMessage(id=m.id) for m in state[\"messages\"][:-2]]\n",
        "    return {\"summary\": response.content, \"messages\": delete_messages}"
      ],
      "metadata": {
        "id": "XwR_HH29ckni"
      },
      "execution_count": 43,
      "outputs": []
    },
    {
      "cell_type": "code",
      "source": [
        "def should_continue(state: State):\n",
        "    messages = state[\"messages\"]\n",
        "    if len(messages) > 6:\n",
        "        return \"summarize_conversation\"\n",
        "    return END"
      ],
      "metadata": {
        "id": "3sbCXC_AdHIh"
      },
      "execution_count": 44,
      "outputs": []
    },
    {
      "cell_type": "code",
      "source": [
        "workflow = StateGraph(State)\n",
        "\n",
        "workflow.add_node(\"conversation\", call_model)\n",
        "workflow.add_node(summarize_conversation)\n",
        "\n",
        "# Set the entrypoint as conversation\n",
        "workflow.add_edge(START, \"conversation\")\n",
        "workflow.add_conditional_edges(\"conversation\", should_continue)\n",
        "workflow.add_edge(\"summarize_conversation\", END)\n",
        "\n",
        "# Compile\n",
        "memory = MemorySaver()\n",
        "graph = workflow.compile(checkpointer=memory)\n",
        "display(Image(graph.get_graph().draw_mermaid_png()))"
      ],
      "metadata": {
        "id": "7EAdpEeedNzd",
        "outputId": "249b4793-68e8-4b75-e3a1-fa904f836a41",
        "colab": {
          "base_uri": "https://localhost:8080/",
          "height": 350
        }
      },
      "execution_count": 45,
      "outputs": [
        {
          "output_type": "display_data",
          "data": {
            "image/png": "[encoded data removed]",
            "text/plain": [
              "<IPython.core.display.Image object>"
            ]
          },
          "metadata": {}
        }
      ]
    },
    {
      "cell_type": "code",
      "source": [
        "# Create a thread\n",
        "config = {\"configurable\": {\"thread_id\": \"1\"}}\n",
        "\n",
        "# Start conversation\n",
        "input_message = HumanMessage(content=\"hi! I'm Lance\")\n",
        "output = graph.invoke({\"messages\": [input_message]}, config)\n",
        "for m in output['messages'][-1:]:\n",
        "    m.pretty_print()\n",
        "\n",
        "input_message = HumanMessage(content=\"what's my name?\")\n",
        "output = graph.invoke({\"messages\": [input_message]}, config)\n",
        "for m in output['messages'][-1:]:\n",
        "    m.pretty_print()\n",
        "\n",
        "input_message = HumanMessage(content=\"i like the 49ers!\")\n",
        "output = graph.invoke({\"messages\": [input_message]}, config)\n",
        "for m in output['messages'][-1:]:\n",
        "    m.pretty_print()"
      ],
      "metadata": {
        "id": "IeiP5RAqddw6",
        "outputId": "44cf4223-eb55-4ecc-96a0-80e1cc9b993b",
        "colab": {
          "base_uri": "https://localhost:8080/"
        }
      },
      "execution_count": 46,
      "outputs": [
        {
          "output_type": "stream",
          "name": "stdout",
          "text": [
            "==================================\u001b[1m Ai Message \u001b[0m==================================\n",
            "\n",
            "Hi Lance! How can I assist you today?\n",
            "==================================\u001b[1m Ai Message \u001b[0m==================================\n",
            "\n",
            "Your name is Lance! How can I help you today?\n",
            "==================================\u001b[1m Ai Message \u001b[0m==================================\n",
            "\n",
            "That's great! The San Francisco 49ers have a rich history and a passionate fan base. Do you have a favorite player or a memorable moment from their games?\n"
          ]
        }
      ]
    },
    {
      "cell_type": "code",
      "source": [
        "graph.get_state(config).values.get(\"summary\",\"\")"
      ],
      "metadata": {
        "id": "J-HIavZhdiP-",
        "outputId": "a47efa6d-f0a5-4cdb-992b-f477485c8534",
        "colab": {
          "base_uri": "https://localhost:8080/",
          "height": 36
        }
      },
      "execution_count": 47,
      "outputs": [
        {
          "output_type": "execute_result",
          "data": {
            "text/plain": [
              "''"
            ],
            "application/vnd.google.colaboratory.intrinsic+json": {
              "type": "string"
            }
          },
          "metadata": {},
          "execution_count": 47
        }
      ]
    },
    {
      "cell_type": "code",
      "source": [
        "input_message = HumanMessage(content=\"i like Nick Bosa, isn't he the highest paid defensive player?\")\n",
        "output = graph.invoke({\"messages\": [input_message]}, config)\n",
        "for m in output['messages'][-1:]:\n",
        "    m.pretty_print()"
      ],
      "metadata": {
        "id": "9BzEVnZVdnUC",
        "outputId": "02d10ed5-3fe9-4ebe-c2c0-7097facc064b",
        "colab": {
          "base_uri": "https://localhost:8080/"
        }
      },
      "execution_count": 48,
      "outputs": [
        {
          "output_type": "stream",
          "name": "stdout",
          "text": [
            "==================================\u001b[1m Ai Message \u001b[0m==================================\n",
            "\n",
            "As of my last update, Nick Bosa signed a contract extension with the San Francisco 49ers in September 2023, making him one of the highest-paid defensive players in NFL history. His impact on the field has been significant, and he’s known for his exceptional skills as a pass rusher. Are you excited about the upcoming season?\n"
          ]
        }
      ]
    },
    {
      "cell_type": "code",
      "source": [
        "graph.get_state(config).values.get(\"summary\",\"\")"
      ],
      "metadata": {
        "id": "06oSuM-adsQf",
        "outputId": "27022307-911e-4cc7-e527-079df346fe63",
        "colab": {
          "base_uri": "https://localhost:8080/",
          "height": 72
        }
      },
      "execution_count": 49,
      "outputs": [
        {
          "output_type": "execute_result",
          "data": {
            "text/plain": [
              "\"In our conversation, you introduced yourself as Lance and mentioned that you like the San Francisco 49ers. You expressed your admiration for Nick Bosa, noting that he is one of the highest-paid defensive players in the NFL following his contract extension in September 2023. We discussed Bosa's impact on the team and your excitement for the upcoming season.\""
            ],
            "application/vnd.google.colaboratory.intrinsic+json": {
              "type": "string"
            }
          },
          "metadata": {},
          "execution_count": 49
        }
      ]
    },
    {
      "cell_type": "code",
      "source": [],
      "metadata": {
        "id": "PzkZInO2dwTq"
      },
      "execution_count": null,
      "outputs": []
    }
  ],
  "metadata": {
    "language_info": {
      "name": "python"
    },
    "colab": {
      "provenance": []
    },
    "kernelspec": {
      "name": "python3",
      "display_name": "Python 3"
    }
  },
  "nbformat": 4,
  "nbformat_minor": 0
}